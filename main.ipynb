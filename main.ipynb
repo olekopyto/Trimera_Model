{
  "cells": [
    {
      "cell_type": "code",
      "execution_count": 1,
      "metadata": {
        "id": "11CIXz_l7O1U"
      },
      "outputs": [],
      "source": [
        "# imports\n",
        "import numpy as np\n",
        "import random\n",
        "import tensorflow as tf\n",
        "from tensorflow import keras\n",
        "import matplotlib.pyplot as plt\n",
        "import cv2\n",
        "from sklearn.metrics import f1_score"
      ]
    },
    {
      "cell_type": "code",
      "source": [
        "! pip install tensorflow-model-optimization\n",
        "import tensorflow as tf\n",
        "from tensorflow.keras import models\n",
        "from tensorflow_model_optimization.sparsity import keras as sparsity\n",
        "from tensorflow.keras.layers import Input, Conv2D, GlobalAveragePooling2D"
      ],
      "metadata": {
        "colab": {
          "base_uri": "https://localhost:8080/"
        },
        "id": "hBZfusw_WzvZ",
        "outputId": "27d36c24-1ac9-48ac-c314-8b0b43b66e86"
      },
      "execution_count": 2,
      "outputs": [
        {
          "output_type": "stream",
          "name": "stdout",
          "text": [
            "Collecting tensorflow-model-optimization\n",
            "  Downloading tensorflow_model_optimization-0.7.5-py2.py3-none-any.whl (241 kB)\n",
            "\u001b[2K     \u001b[90m━━━━━━━━━━━━━━━━━━━━━━━━━━━━━━━━━━━━━━━━\u001b[0m \u001b[32m241.2/241.2 kB\u001b[0m \u001b[31m5.5 MB/s\u001b[0m eta \u001b[36m0:00:00\u001b[0m\n",
            "\u001b[?25hRequirement already satisfied: absl-py~=1.2 in /usr/local/lib/python3.10/dist-packages (from tensorflow-model-optimization) (1.4.0)\n",
            "Requirement already satisfied: dm-tree~=0.1.1 in /usr/local/lib/python3.10/dist-packages (from tensorflow-model-optimization) (0.1.8)\n",
            "Requirement already satisfied: numpy~=1.23 in /usr/local/lib/python3.10/dist-packages (from tensorflow-model-optimization) (1.23.5)\n",
            "Requirement already satisfied: six~=1.14 in /usr/local/lib/python3.10/dist-packages (from tensorflow-model-optimization) (1.16.0)\n",
            "Installing collected packages: tensorflow-model-optimization\n",
            "Successfully installed tensorflow-model-optimization-0.7.5\n"
          ]
        }
      ]
    },
    {
      "cell_type": "markdown",
      "source": [
        "# Methods for creating data set"
      ],
      "metadata": {
        "id": "rRYynjS9F6LX"
      }
    },
    {
      "cell_type": "markdown",
      "source": [],
      "metadata": {
        "id": "tZqrkDulItXU"
      }
    },
    {
      "cell_type": "code",
      "execution_count": 3,
      "metadata": {
        "id": "yELBnZ0q9WZq"
      },
      "outputs": [],
      "source": [
        "# Generate square\n",
        "def add_square(img, center, width):\n",
        "  start_point = (center[0]-width, center[1]-width)\n",
        "  end_point   = (center[0]+width, center[1]+width)\n",
        "  cv2.rectangle(img, start_point, end_point, (255, 255, 255),cv2.FILLED)"
      ]
    },
    {
      "cell_type": "code",
      "execution_count": 4,
      "metadata": {
        "id": "VeV5Q1ky7izq"
      },
      "outputs": [],
      "source": [
        "# generate sample\n",
        "def create_data_sample(num_shapes, height, width):\n",
        "  img = np.zeros((height, width, 3))\n",
        "  for i in range(num_shapes):\n",
        "    x = int(np.random.rand()*width)\n",
        "    y = int(np.random.rand()*height)\n",
        "    if np.random.rand() > 0.5:\n",
        "      radius = random.uniform(0.06, 0.12) # random circle radius multiplier\n",
        "      cv2.circle(img, (x,y), int(np.ceil(width*radius)), (255, 255, 255), cv2.FILLED)\n",
        "      data_shape = 0\n",
        "      # Show circle pos\n",
        "      # cv2.circle(label, (x,y), int(np.ceil(width*0.02)), (1, 1, 1), cv2.FILLED)\n",
        "    else:\n",
        "      data_shape = 1\n",
        "      side = random.uniform(0.07, 0.2) # random square side multiplier\n",
        "      add_square(img, (x,y), int(np.ceil(width*0.6*side)))\n",
        "  return img, data_shape\n"
      ]
    },
    {
      "cell_type": "code",
      "execution_count": 5,
      "metadata": {
        "id": "ahEDuTw_uelA"
      },
      "outputs": [],
      "source": [
        "# def test_batch(num_shapes, height, width):\n",
        "#   img, data_shape = create_data_sample(num_shapes, height, width)\n",
        "#   return np.expand_dims(img,0), data_shape"
      ]
    },
    {
      "cell_type": "code",
      "execution_count": 6,
      "metadata": {
        "id": "DcjI2eH1HDql"
      },
      "outputs": [],
      "source": [
        "# def grayscale_image(img):\n",
        "#   return np.expand_dims((img[:,:,0] + img[:,:,1] + img[:,:,2])/3,2)"
      ]
    },
    {
      "cell_type": "code",
      "execution_count": 7,
      "metadata": {
        "id": "Fe5pV5xu-2XS"
      },
      "outputs": [],
      "source": [
        "# # (128,128,1) --> (128,128,3)\n",
        "# def to_three_channels(img):\n",
        "#   return np.squeeze(np.stack((img,img,img), 2))"
      ]
    },
    {
      "cell_type": "code",
      "execution_count": 8,
      "metadata": {
        "id": "6e-JcGdI8jn7"
      },
      "outputs": [],
      "source": [
        "def show_sample(img, shape):\n",
        "  class_names = ['Circle', 'Square'] # Training shapes list\n",
        "  plt.imshow(img)\n",
        "  plt.title(class_names[shape], fontsize=20)\n",
        "  # the pos info\n",
        "  # axis[1].imshow(to_three_channels(label))"
      ]
    },
    {
      "cell_type": "code",
      "source": [
        "def show_sample_group(img_list, shape_list, count):\n",
        "  table_height = int(count / 4) + 1\n",
        "  labels = [\"Circle\", \"Square\"]\n",
        "  for i in range(count):\n",
        "    plt.subplot(table_height, 4, i+1)\n",
        "    plt.xticks([])\n",
        "    plt.yticks([])\n",
        "    plt.grid(False)\n",
        "    plt.imshow(img_list[i], cmap=plt.cm.binary)\n",
        "    plt.xlabel(labels[shape_list[i]])"
      ],
      "metadata": {
        "id": "uP1v4aiuigwL"
      },
      "execution_count": 9,
      "outputs": []
    },
    {
      "cell_type": "code",
      "execution_count": 10,
      "metadata": {
        "id": "ezsg3vRxEePg"
      },
      "outputs": [],
      "source": [
        "# def show_batch(img, shape):\n",
        "#   show_sample(img[0,:,:,:], shape)"
      ]
    },
    {
      "cell_type": "markdown",
      "source": [
        "# Method for applying a new model - MobileNetv1"
      ],
      "metadata": {
        "id": "3yKWi4laYTn7"
      }
    },
    {
      "cell_type": "code",
      "source": [
        "\n",
        "def create_mobilenetv1_model(input_shape=(96, 96, 1), alpha=0.25):\n",
        "    input_tensor = Input(shape=input_shape)\n",
        "\n",
        "    # MobileNetV1 architecture\n",
        "    base_model = tf.keras.applications.MobileNet(input_shape=(None, None, 3), include_top=False, weights='imagenet', alpha=alpha)\n",
        "    for layer in base_model.layers:\n",
        "        layer.trainable = False  # Freeze pre-trained layers\n",
        "\n",
        "    x = Conv2D(3, (1, 1), padding='same', activation='relu')(input_tensor)  # Convert single-channel to three channels\n",
        "    x = base_model(x)\n",
        "    x = GlobalAveragePooling2D()(x)\n",
        "\n",
        "    output_tensor = Dense(2, activation='softmax')(x)  # Adjust the output layer based on your task\n",
        "\n",
        "    model = models.Model(inputs=input_tensor, outputs=output_tensor)\n",
        "\n",
        "    return model\n",
        "# #"
      ],
      "metadata": {
        "id": "nOGLb8PyYS-a"
      },
      "execution_count": 11,
      "outputs": []
    },
    {
      "cell_type": "markdown",
      "source": [
        "# Sample"
      ],
      "metadata": {
        "id": "QQSBd0vwGGaF"
      }
    },
    {
      "cell_type": "code",
      "execution_count": 12,
      "metadata": {
        "colab": {
          "base_uri": "https://localhost:8080/",
          "height": 478
        },
        "id": "_NMRH77R8t_Z",
        "outputId": "9fa68e36-89db-411f-a55c-3e125319fc94"
      },
      "outputs": [
        {
          "output_type": "stream",
          "name": "stderr",
          "text": [
            "WARNING:matplotlib.image:Clipping input data to the valid range for imshow with RGB data ([0..1] for floats or [0..255] for integers).\n"
          ]
        },
        {
          "output_type": "display_data",
          "data": {
            "text/plain": [
              "<Figure size 640x480 with 1 Axes>"
            ],
            "image/png": "[encoded data removed]"
          },
          "metadata": {}
        }
      ],
      "source": [
        "img_shape = (96, 96, 1) #resolution changed fron 320x240 into 96x96\n",
        "img, data_shape = create_data_sample(1, img_shape[0], img_shape[1]) # data smaple with 1 shape, height, width\n",
        "show_sample(img, data_shape)"
      ]
    },
    {
      "cell_type": "markdown",
      "source": [
        "# Model Training"
      ],
      "metadata": {
        "id": "DT1gEl9TGLHq"
      }
    },
    {
      "cell_type": "code",
      "execution_count": 16,
      "metadata": {
        "colab": {
          "base_uri": "https://localhost:8080/"
        },
        "id": "LuT2wrG_FMO-",
        "outputId": "00bf6bb2-b42f-428f-a4a0-bad141bf0616"
      },
      "outputs": [
        {
          "output_type": "stream",
          "name": "stdout",
          "text": [
            "Model: \"sequential_3\"\n",
            "_________________________________________________________________\n",
            " Layer (type)                Output Shape              Param #   \n",
            "=================================================================\n",
            " conv2d_7 (Conv2D)           (None, 94, 94, 32)        320       \n",
            "                                                                 \n",
            " max_pooling2d_4 (MaxPoolin  (None, 47, 47, 32)        0         \n",
            " g2D)                                                            \n",
            "                                                                 \n",
            " conv2d_8 (Conv2D)           (None, 45, 45, 64)        18496     \n",
            "                                                                 \n",
            " max_pooling2d_5 (MaxPoolin  (None, 22, 22, 64)        0         \n",
            " g2D)                                                            \n",
            "                                                                 \n",
            " flatten_5 (Flatten)         (None, 30976)             0         \n",
            "                                                                 \n",
            " dense_4 (Dense)             (None, 2)                 61954     \n",
            "                                                                 \n",
            "=================================================================\n",
            "Total params: 80770 (315.51 KB)\n",
            "Trainable params: 80770 (315.51 KB)\n",
            "Non-trainable params: 0 (0.00 Byte)\n",
            "_________________________________________________________________\n"
          ]
        },
        {
          "output_type": "stream",
          "name": "stderr",
          "text": [
            "WARNING:tensorflow:`input_shape` is undefined or non-square, or `rows` is not in [128, 160, 192, 224]. Weights for input shape (224, 224) will be loaded as the default.\n"
          ]
        },
        {
          "output_type": "stream",
          "name": "stdout",
          "text": [
            "Model: \"model_1\"\n",
            "_________________________________________________________________\n",
            " Layer (type)                Output Shape              Param #   \n",
            "=================================================================\n",
            " input_3 (InputLayer)        [(None, 96, 96, 1)]       0         \n",
            "                                                                 \n",
            " conv2d_9 (Conv2D)           (None, 96, 96, 3)         6         \n",
            "                                                                 \n",
            " mobilenet_0.25_224 (Functi  (None, None, None, 256)   218544    \n",
            " onal)                                                           \n",
            "                                                                 \n",
            " global_average_pooling2d_1  (None, 256)               0         \n",
            "  (GlobalAveragePooling2D)                                       \n",
            "                                                                 \n",
            " dense_5 (Dense)             (None, 2)                 514       \n",
            "                                                                 \n",
            "=================================================================\n",
            "Total params: 219064 (855.72 KB)\n",
            "Trainable params: 520 (2.03 KB)\n",
            "Non-trainable params: 218544 (853.69 KB)\n",
            "_________________________________________________________________\n"
          ]
        }
      ],
      "source": [
        "# Training model type setup\n",
        "from tensorflow.keras.layers import Dense\n",
        "#l2 = keras.regularizers.l2(1e-5)\n",
        "l2 = None\n",
        "\n",
        "\n",
        "model = tf.keras.Sequential([\n",
        "    tf.keras.layers.Conv2D(32, (3, 3), activation='relu', input_shape=(96, 96, 1)),\n",
        "    tf.keras.layers.MaxPooling2D((2, 2)),\n",
        "    tf.keras.layers.Conv2D(64, (3, 3), activation='relu'),  # Adjust kernel size as needed\n",
        "    tf.keras.layers.MaxPooling2D((2, 2)),\n",
        "    tf.keras.layers.Flatten(),\n",
        "    tf.keras.layers.Dense(2, activation='softmax')\n",
        "])\n",
        "\n",
        "\n",
        "model.summary()\n",
        "\n",
        "model_mn1 = create_mobilenetv1_model()\n",
        "model_mn1.summary()\n",
        "# #"
      ]
    },
    {
      "cell_type": "code",
      "execution_count": 17,
      "metadata": {
        "id": "ti1MlFfMlZEj"
      },
      "outputs": [],
      "source": [
        "# Generate data sample for teaching model\n",
        "teachingDataSize = 300\n",
        "\n",
        "x_list = []\n",
        "x_type = []\n",
        "for i in range(teachingDataSize):\n",
        "  x, y  = create_data_sample(1, img_shape[0], img_shape[1])\n",
        "  x_list.append(x[:, :, 0:1])\n",
        "  x_type.append(y)\n",
        "x_list = np.array(x_list)\n",
        "x_type = np.array(x_type)\n",
        "\n",
        "# save dataset"
      ]
    },
    {
      "cell_type": "code",
      "execution_count": 18,
      "metadata": {
        "id": "odlwwBD_oCvQ",
        "outputId": "7808a23b-fa72-4b91-a0d0-e51bb6b2695d",
        "colab": {
          "base_uri": "https://localhost:8080/",
          "height": 460
        }
      },
      "outputs": [
        {
          "output_type": "display_data",
          "data": {
            "text/plain": [
              "<Figure size 640x480 with 1 Axes>"
            ],
            "image/png": "[encoded data removed]"
          },
          "metadata": {}
        }
      ],
      "source": [
        "i = 0\n",
        "show_sample(x_list[i], x_type[i])"
      ]
    },
    {
      "cell_type": "code",
      "execution_count": 19,
      "metadata": {
        "id": "odXTQBu6GPKO",
        "outputId": "9ab31e1e-c035-4d53-a9ba-0cb6456499f6",
        "colab": {
          "base_uri": "https://localhost:8080/"
        }
      },
      "outputs": [
        {
          "output_type": "stream",
          "name": "stdout",
          "text": [
            "Num GPUs Available:  1\n"
          ]
        }
      ],
      "source": [
        "model.compile(optimizer='adam',\n",
        "              loss='sparse_categorical_crossentropy',\n",
        "              metrics=['accuracy'])\n",
        "x_list = x_list.reshape((-1, 96, 96, 1))\n",
        "##\n",
        "\n",
        "# Compile the model\n",
        "model_mn1.compile(optimizer='adam', loss='sparse_categorical_crossentropy', metrics=['accuracy'])\n",
        "# #\n",
        "\n",
        "print(\"Num GPUs Available: \", len(tf.config.list_physical_devices('GPU'))) # check GPU avaible devices"
      ]
    },
    {
      "cell_type": "code",
      "source": [
        "# Load pregenerated dataset\n"
      ],
      "metadata": {
        "id": "t9cu8o5jHsB_"
      },
      "execution_count": 20,
      "outputs": []
    },
    {
      "cell_type": "code",
      "execution_count": 21,
      "metadata": {
        "id": "ruf3_HvEGJyA",
        "outputId": "243d51cf-1f1e-463a-b8fd-0831daf589b0",
        "colab": {
          "base_uri": "https://localhost:8080/"
        }
      },
      "outputs": [
        {
          "output_type": "stream",
          "name": "stdout",
          "text": [
            "Variable                   Type          Data/Info\n",
            "--------------------------------------------------\n",
            "Conv2D                     type          <class 'keras.src.layers.<...>olutional.conv2d.Conv2D'>\n",
            "Dense                      type          <class 'keras.src.layers.core.dense.Dense'>\n",
            "GlobalAveragePooling2D     type          <class 'keras.src.layers.<...>.GlobalAveragePooling2D'>\n",
            "Input                      function      <function Input at 0x795b25415e10>\n",
            "add_square                 function      <function add_square at 0x795b0fee0c10>\n",
            "create_data_sample         function      <function create_data_sample at 0x795bac1d9a20>\n",
            "create_mobilenetv1_model   function      <function create_mobilene<...>_model at 0x795b0fee1510>\n",
            "cv2                        module        <module 'cv2' from '/usr/<...>ackages/cv2/__init__.py'>\n",
            "data_shape                 int           0\n",
            "f1_score                   function      <function f1_score at 0x795b103d8430>\n",
            "i                          int           0\n",
            "img                        ndarray       96x96x3: 27648 elems, type `float64`, 221184 bytes (216.0 kb)\n",
            "img_shape                  tuple         n=3\n",
            "keras                      LazyLoader    <LazyLoader keras.api._v2.keras as keras>\n",
            "l2                         NoneType      None\n",
            "model                      Sequential    <keras.src.engine.sequent<...>object at 0x795b0fdc02b0>\n",
            "model_mn1                  Functional    <keras.src.engine.functio<...>object at 0x795ac4dc52d0>\n",
            "models                     module        <module 'keras.api._v2.ke<...>eras/models/__init__.py'>\n",
            "np                         module        <module 'numpy' from '/us<...>kages/numpy/__init__.py'>\n",
            "plt                        module        <module 'matplotlib.pyplo<...>es/matplotlib/pyplot.py'>\n",
            "random                     module        <module 'random' from '/u<...>ib/python3.10/random.py'>\n",
            "show_sample                function      <function show_sample at 0x795b0fee1990>\n",
            "show_sample_group          function      <function show_sample_group at 0x795b0fee0af0>\n",
            "sparsity                   module        <module 'tensorflow_model<...>rsity/keras/__init__.py'>\n",
            "teachingDataSize           int           300\n",
            "tf                         module        <module 'tensorflow' from<...>/tensorflow/__init__.py'>\n",
            "x                          ndarray       96x96x3: 27648 elems, type `float64`, 221184 bytes (216.0 kb)\n",
            "x_list                     ndarray       300x96x96x1: 2764800 elems, type `float64`, 22118400 bytes (21.09375 Mb)\n",
            "x_type                     ndarray       300: 300 elems, type `int64`, 2400 bytes\n",
            "y                          int           1\n",
            "Epoch 1/10\n",
            "30/30 [==============================] - 10s 5ms/step - loss: 5.9079 - accuracy: 0.5000\n",
            "Epoch 2/10\n",
            "30/30 [==============================] - 0s 4ms/step - loss: 0.3035 - accuracy: 0.8733\n",
            "Epoch 3/10\n",
            "30/30 [==============================] - 0s 4ms/step - loss: 0.0582 - accuracy: 0.9967\n",
            "Epoch 4/10\n",
            "30/30 [==============================] - 0s 4ms/step - loss: 0.0165 - accuracy: 1.0000\n",
            "Epoch 5/10\n",
            "30/30 [==============================] - 0s 4ms/step - loss: 0.0074 - accuracy: 1.0000\n",
            "Epoch 6/10\n",
            "30/30 [==============================] - 0s 4ms/step - loss: 0.0047 - accuracy: 1.0000\n",
            "Epoch 7/10\n",
            "30/30 [==============================] - 0s 4ms/step - loss: 0.0032 - accuracy: 1.0000\n",
            "Epoch 8/10\n",
            "30/30 [==============================] - 0s 4ms/step - loss: 0.0024 - accuracy: 1.0000\n",
            "Epoch 9/10\n",
            "30/30 [==============================] - 0s 4ms/step - loss: 0.0018 - accuracy: 1.0000\n",
            "Epoch 10/10\n",
            "30/30 [==============================] - 0s 4ms/step - loss: 0.0014 - accuracy: 1.0000\n",
            "Epoch 1/5\n",
            "5/5 [==============================] - 3s 94ms/step - loss: 2.0264 - accuracy: 0.4733\n",
            "Epoch 2/5\n",
            "5/5 [==============================] - 0s 18ms/step - loss: 1.3089 - accuracy: 0.4300\n",
            "Epoch 3/5\n",
            "5/5 [==============================] - 0s 16ms/step - loss: 0.8790 - accuracy: 0.4633\n",
            "Epoch 4/5\n",
            "5/5 [==============================] - 0s 16ms/step - loss: 0.6966 - accuracy: 0.6033\n",
            "Epoch 5/5\n",
            "5/5 [==============================] - 0s 15ms/step - loss: 0.5765 - accuracy: 0.6967\n"
          ]
        }
      ],
      "source": [
        "# train model\n",
        "%whos\n",
        "# model_history stores history of trained model (accuracy, loss) OF THE SECOND MODEL! TAKE NOTE!\n",
        "model_history = model.fit(x_list, x_type, epochs=10, batch_size=10)\n",
        "model_history1 = model_mn1.fit(x_list, x_type, epochs=5, batch_size=64)\n",
        "# #\n",
        "# save trained model\n",
        "model.save('saved_model/my_model')\n",
        "\n",
        "model_mn1.save('saved_model/mn1_model')\n",
        "# #"
      ]
    },
    {
      "cell_type": "markdown",
      "source": [
        "# Load pretrained model below"
      ],
      "metadata": {
        "id": "atMCyinRFWGT"
      }
    },
    {
      "cell_type": "code",
      "source": [
        "model = tf.keras.models.load_model('saved_model/mn1_model')"
      ],
      "metadata": {
        "id": "HKuMGtVVFd3y"
      },
      "execution_count": 22,
      "outputs": []
    },
    {
      "cell_type": "markdown",
      "source": [
        "# Testing Accuracy, Loss & F1 score"
      ],
      "metadata": {
        "id": "_-kmHN6rFmOk"
      }
    },
    {
      "cell_type": "code",
      "execution_count": 23,
      "metadata": {
        "id": "fjUnbsGiJo41",
        "outputId": "ee216138-5d84-4112-a738-9f8eb4bb9ee9",
        "colab": {
          "base_uri": "https://localhost:8080/",
          "height": 490
        }
      },
      "outputs": [
        {
          "output_type": "execute_result",
          "data": {
            "text/plain": [
              "<matplotlib.legend.Legend at 0x795a622a8400>"
            ]
          },
          "metadata": {},
          "execution_count": 23
        },
        {
          "output_type": "display_data",
          "data": {
            "text/plain": [
              "<Figure size 640x480 with 2 Axes>"
            ],
            "image/png": "[encoded data removed]"
          },
          "metadata": {}
        }
      ],
      "source": [
        "# plotting accuracy and loss\n",
        "\n",
        "# accuracy\n",
        "plt.subplot(1, 2, 1)\n",
        "plt.plot(model_history.history['accuracy'])\n",
        "plt.title('Accuracy graph') # accuracy per epoch\n",
        "plt.ylabel('Accuracy')\n",
        "plt.xlabel('Epoch')\n",
        "plt.legend(['model accuracy'], loc='upper left')\n",
        "\n",
        "# loss\n",
        "plt.subplot(1, 2, 2)\n",
        "plt.plot(model_history.history['loss'])\n",
        "plt.title('Loss graph') # loss per epoch\n",
        "plt.ylabel('Loss')\n",
        "plt.xlabel('Epoch')\n",
        "plt.legend(['model loss'], loc='upper left')"
      ]
    },
    {
      "cell_type": "code",
      "source": [
        "# Generate data sample for testing model\n",
        "testingDataSize = 10000\n",
        "\n",
        "x_list_test = []\n",
        "y_list_test = []\n",
        "for i in range(testingDataSize):\n",
        "  x, y  = create_data_sample(1, img_shape[0], img_shape[1])\n",
        "  x_list_test.append(x[:, :, 0:1])\n",
        "  y_list_test.append(y)\n",
        "x_list_test = np.array(x_list_test)\n",
        "y_list_test = np.array(y_list_test)"
      ],
      "metadata": {
        "id": "55ixQw8Bfz8g"
      },
      "execution_count": 24,
      "outputs": []
    },
    {
      "cell_type": "code",
      "source": [
        "# Sampling testing data set\n",
        "\n",
        "show_sample(x_list_test[0], y_list_test[0])"
      ],
      "metadata": {
        "id": "CtmCM6mLBqc3",
        "outputId": "d6d3a779-b2a7-4690-9aab-da290af2f45d",
        "colab": {
          "base_uri": "https://localhost:8080/",
          "height": 460
        }
      },
      "execution_count": 25,
      "outputs": [
        {
          "output_type": "display_data",
          "data": {
            "text/plain": [
              "<Figure size 640x480 with 1 Axes>"
            ],
            "image/png": "[encoded data removed]"
          },
          "metadata": {}
        }
      ]
    },
    {
      "cell_type": "code",
      "execution_count": 26,
      "metadata": {
        "id": "6ravQBFDJbzM",
        "outputId": "c42310c4-00ff-4388-eb25-5d5b73d89215",
        "colab": {
          "base_uri": "https://localhost:8080/"
        }
      },
      "outputs": [
        {
          "output_type": "stream",
          "name": "stdout",
          "text": [
            "313/313 [==============================] - 3s 7ms/step\n",
            "Success rate:  74.48 %\n",
            "F1 Score: 72.12756662297947 %\n",
            "313/313 [==============================] - 6s 12ms/step - loss: 0.5088 - accuracy: 0.7448\n"
          ]
        },
        {
          "output_type": "execute_result",
          "data": {
            "text/plain": [
              "[0.5088445544242859, 0.7447999715805054]"
            ]
          },
          "metadata": {},
          "execution_count": 26
        }
      ],
      "source": [
        "# Success rate\n",
        "\n",
        "probability_model = tf.keras.Sequential([model,\n",
        "                                         tf.keras.layers.Softmax()])\n",
        "predictions = probability_model.predict(x_list_test)\n",
        "predicted_labels = []\n",
        "success_rate = 0\n",
        "for i in range(testingDataSize):\n",
        "  if(np.argmax(predictions[i]) == y_list_test[i]):\n",
        "      success_rate += 1\n",
        "  predicted_labels.append(np.argmax(predictions[i]))\n",
        "# show_sample_group(x_list_test, predicted_labels, testingDataSize)\n",
        "print(\"Success rate: \", (success_rate / testingDataSize) * 100, \"%\")\n",
        "\n",
        "# F1 score\n",
        "f1 = f1_score(y_list_test, predicted_labels) * 100 # (reality, predictions)\n",
        "print(f\"F1 Score: {f1} %\")\n",
        "\n",
        "model_mn1.evaluate(x_list_test, y_list_test)"
      ]
    },
    {
      "cell_type": "markdown",
      "source": [
        "# Model Export\n"
      ],
      "metadata": {
        "id": "_ZeFJsx9IijT"
      }
    },
    {
      "cell_type": "code",
      "source": [
        "for layer in model.layers:\n",
        "    layer.trainable = False\n",
        "model.summary()\n",
        "model.save('frozen_model.h5')\n",
        "\n",
        "for layer in model_mn1.layers:\n",
        "    layer.trainable = False\n",
        "\n",
        "model_mn1.save('frozen_mobilenetv1_model.h5')"
      ],
      "metadata": {
        "id": "2DOZTBzSIopt",
        "outputId": "67eb7f55-b62d-4324-cfc2-a4a48026aa9b",
        "colab": {
          "base_uri": "https://localhost:8080/"
        }
      },
      "execution_count": 27,
      "outputs": [
        {
          "output_type": "stream",
          "name": "stdout",
          "text": [
            "Model: \"model_1\"\n",
            "_________________________________________________________________\n",
            " Layer (type)                Output Shape              Param #   \n",
            "=================================================================\n",
            " input_3 (InputLayer)        [(None, 96, 96, 1)]       0         \n",
            "                                                                 \n",
            " conv2d_9 (Conv2D)           (None, 96, 96, 3)         6         \n",
            "                                                                 \n",
            " mobilenet_0.25_224 (Functi  (None, None, None, 256)   218544    \n",
            " onal)                                                           \n",
            "                                                                 \n",
            " global_average_pooling2d_1  (None, 256)               0         \n",
            "  (GlobalAveragePooling2D)                                       \n",
            "                                                                 \n",
            " dense_5 (Dense)             (None, 2)                 514       \n",
            "                                                                 \n",
            "=================================================================\n",
            "Total params: 219064 (855.72 KB)\n",
            "Trainable params: 0 (0.00 Byte)\n",
            "Non-trainable params: 219064 (855.72 KB)\n",
            "_________________________________________________________________\n"
          ]
        },
        {
          "output_type": "stream",
          "name": "stderr",
          "text": [
            "/usr/local/lib/python3.10/dist-packages/keras/src/engine/training.py:3079: UserWarning: You are saving your model as an HDF5 file via `model.save()`. This file format is considered legacy. We recommend using instead the native Keras format, e.g. `model.save('my_model.keras')`.\n",
            "  saving_api.save_model(\n"
          ]
        }
      ]
    },
    {
      "cell_type": "markdown",
      "source": [
        "Quantization is a process of reducing the precision of the weights and activations in a model, typically from 32-bit floating-point to 8-bit integer. This can significantly reduce the model size, making it more suitable for deployment on memory-constrained devices like microcontrollers.\n",
        "\n",
        "To quantize a model for TensorFlow Lite, you can follow these steps:\n",
        "\n",
        "    Train the Model:\n",
        "        Train your model as usual, making sure it performs well on your task.\n",
        "\n",
        "    Quantize the Model:\n",
        "        After training, apply quantization to the model. TensorFlow provides tools for quantizing a model using the TensorFlow Lite Converter.\n",
        "\n",
        "Here's an example of how you can quantize your model:"
      ],
      "metadata": {
        "id": "yQ4QUnFtI7mG"
      }
    },
    {
      "cell_type": "code",
      "source": [],
      "metadata": {
        "id": "0VGQT1MqfeqS"
      },
      "execution_count": 27,
      "outputs": []
    },
    {
      "cell_type": "code",
      "source": [
        "import tensorflow as tf\n",
        "from tensorflow.keras import layers, models\n",
        "\n",
        "# Assuming you have your trained model\n",
        "model = models.load_model('frozen_model.h5')\n",
        "\n",
        "# Convert the model to TensorFlow Lite format with quantization\n",
        "converter = tf.lite.TFLiteConverter.from_keras_model(model)\n",
        "converter.optimizations = [tf.lite.Optimize.DEFAULT]\n",
        "tflite_quantized_model = converter.convert()\n",
        "\n",
        "# Save the quantized model to a file\n",
        "with open('quantized_model.tflite', 'wb') as f:\n",
        "    f.write(tflite_quantized_model)\n",
        "\n",
        "\"\"\"\"# Assuming you have your trained MobileNetV1 model\n",
        "model_mn1 = models.load_model('frozen_mobilenetv1_model.h5')\n",
        "\n",
        "# Convert the MobileNetV1 model to TensorFlow Lite format with quantization\n",
        "converter_mn1 = tf.lite.TFLiteConverter.from_keras_model(model_mn1)\n",
        "converter_mn1.optimizations = [tf.lite.Optimize.OPTIMIZE_FOR_SIZE]\n",
        "tflite_quantized_model_mn1 = converter_mn1.convert()\n",
        "\n",
        "# Save the quantized MobileNetV1 model to a file\n",
        "with open('quantized_model_mn1.tflite', 'wb') as f:\n",
        "    f.write(tflite_quantized_model_mn1)\n",
        "\"\"\"\"\n",
        "\n",
        "\n"
      ],
      "metadata": {
        "id": "knst2ij6I3OB",
        "outputId": "f6588575-b37f-4ac7-e73b-96aab2b417ad",
        "colab": {
          "base_uri": "https://localhost:8080/"
        }
      },
      "execution_count": 28,
      "outputs": [
        {
          "output_type": "stream",
          "name": "stderr",
          "text": [
            "WARNING:absl:Optimization option OPTIMIZE_FOR_SIZE is deprecated, please use optimizations=[Optimize.DEFAULT] instead.\n",
            "WARNING:absl:Optimization option OPTIMIZE_FOR_SIZE is deprecated, please use optimizations=[Optimize.DEFAULT] instead.\n",
            "WARNING:absl:Optimization option OPTIMIZE_FOR_SIZE is deprecated, please use optimizations=[Optimize.DEFAULT] instead.\n"
          ]
        }
      ]
    },
    {
      "cell_type": "code",
      "source": [
        "! apt-get -qq install xxd\n",
        "! xxd -i quantized_model.tflite > trimera_model.c\n",
        "! xxd -i quantized_model_mn1.tflite > trimera_model_mn1.c\n",
        "! ls -l\n",
        "! zip model.zip trimera_model.c\n",
        "! zip model_mn1.zip trimera_model_mn1.c"
      ],
      "metadata": {
        "id": "TmQ4AwbQJMs2",
        "outputId": "89af2a8f-1336-4a9a-e2ac-e53560b0eef1",
        "colab": {
          "base_uri": "https://localhost:8080/"
        }
      },
      "execution_count": 29,
      "outputs": [
        {
          "output_type": "stream",
          "name": "stdout",
          "text": [
            "total 6000\n",
            "-rw-r--r-- 1 root root 1065576 Dec 11 16:39 frozen_mobilenetv1_model.h5\n",
            "-rw-r--r-- 1 root root 1051832 Dec 11 16:39 frozen_model.h5\n",
            "-rw-r--r-- 1 root root  279000 Dec 11 16:40 quantized_model_mn1.tflite\n",
            "-rw-r--r-- 1 root root  279000 Dec 11 16:40 quantized_model.tflite\n",
            "drwxr-xr-x 1 root root    4096 Dec  4 14:27 sample_data\n",
            "drwxr-xr-x 4 root root    4096 Dec 11 16:39 saved_model\n",
            "-rw-r--r-- 1 root root 1720595 Dec 11 16:40 trimera_model.c\n",
            "-rw-r--r-- 1 root root 1720603 Dec 11 16:40 trimera_model_mn1.c\n",
            "  adding: trimera_model.c (deflated 79%)\n",
            "  adding: trimera_model_mn1.c (deflated 79%)\n"
          ]
        }
      ]
    },
    {
      "cell_type": "code",
      "source": [
        "! ls -l\n"
      ],
      "metadata": {
        "id": "yMB4Te3QjFqt",
        "outputId": "2ab66b12-76d8-47f0-f7fc-6688e5361fbe",
        "colab": {
          "base_uri": "https://localhost:8080/"
        }
      },
      "execution_count": 30,
      "outputs": [
        {
          "output_type": "stream",
          "name": "stdout",
          "text": [
            "total 6712\n",
            "-rw-r--r-- 1 root root 1065576 Dec 11 16:39 frozen_mobilenetv1_model.h5\n",
            "-rw-r--r-- 1 root root 1051832 Dec 11 16:39 frozen_model.h5\n",
            "-rw-r--r-- 1 root root  363937 Dec 11 16:40 model_mn1.zip\n",
            "-rw-r--r-- 1 root root  363918 Dec 11 16:40 model.zip\n",
            "-rw-r--r-- 1 root root  279000 Dec 11 16:40 quantized_model_mn1.tflite\n",
            "-rw-r--r-- 1 root root  279000 Dec 11 16:40 quantized_model.tflite\n",
            "drwxr-xr-x 1 root root    4096 Dec  4 14:27 sample_data\n",
            "drwxr-xr-x 4 root root    4096 Dec 11 16:39 saved_model\n",
            "-rw-r--r-- 1 root root 1720595 Dec 11 16:40 trimera_model.c\n",
            "-rw-r--r-- 1 root root 1720603 Dec 11 16:40 trimera_model_mn1.c\n"
          ]
        }
      ]
    }
  ],
  "metadata": {
    "accelerator": "GPU",
    "colab": {
      "provenance": []
    },
    "kernelspec": {
      "display_name": "Python 3",
      "name": "python3"
    },
    "language_info": {
      "codemirror_mode": {
        "name": "ipython",
        "version": 3
      },
      "file_extension": ".py",
      "mimetype": "text/x-python",
      "name": "python",
      "nbconvert_exporter": "python",
      "pygments_lexer": "ipython3",
      "version": "3.11.6"
    }
  },
  "nbformat": 4,
  "nbformat_minor": 0
}